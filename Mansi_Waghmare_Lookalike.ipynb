{
  "nbformat": 4,
  "nbformat_minor": 0,
  "metadata": {
    "colab": {
      "provenance": [],
      "authorship_tag": "ABX9TyNDEAVAsSNXR26h1wJaW6/a",
      "include_colab_link": true
    },
    "kernelspec": {
      "name": "python3",
      "display_name": "Python 3"
    },
    "language_info": {
      "name": "python"
    }
  },
  "cells": [
    {
      "cell_type": "markdown",
      "metadata": {
        "id": "view-in-github",
        "colab_type": "text"
      },
      "source": [
        "<a href=\"https://colab.research.google.com/github/manasiwaghmare18/eCommerce-Transactions-Dataset-Analysis/blob/main/Mansi_Waghmare_Lookalike.ipynb\" target=\"_parent\"><img src=\"https://colab.research.google.com/assets/colab-badge.svg\" alt=\"Open In Colab\"/></a>"
      ]
    },
    {
      "cell_type": "markdown",
      "source": [
        "**Process Flow:**\n",
        "\n",
        "**1. Data Loading:** The code starts by loading data from three CSV files: Customers.csv, Products.csv, and Transactions.csv. This data contains information about customers, products, and their purchase history.\n",
        "\n",
        "**2. Data Preparation:** The ECommerceAnalyzer class is initialized with the loaded data. It performs data cleaning, feature engineering, and data transformation steps to prepare the data for analysis. This involves:\n",
        "\n",
        "- Converting dates to datetime objects.\n",
        "- Creating customer features like total transactions, total spend, and average transaction value.\n",
        "- Creating combined features that include customer demographics and product categories purchased.\n",
        "\n",
        "**3. Lookalike Identification:**\n",
        "The core logic lies in the find_lookalikes method. This method calculates the cosine similarity between customers based on their features. It then identifies the most similar customers (lookalikes) for a given customer ID.\n",
        "\n",
        "**4. Output Generation:** The generate_lookalikes_csv method iterates through a specified number of customers and finds their lookalikes. It then creates a CSV file named Mansi_Waghmare_Lookalike.csv containing the customer ID and their corresponding lookalikes with similarity scores.\n",
        "\n",
        "**Lookalike Modeling:**\n",
        "\n",
        "Lookalike modeling is a technique used in marketing and data science to identify new potential customers who share similar characteristics with your existing high-value customers. It is a powerful tool for:\n",
        "\n",
        "**Customer Acquisition:** By targeting lookalike audiences, you can expand your customer base by reaching individuals who are likely to be interested in your products or services.\n",
        "Targeted Marketing: Lookalike modeling enables you to tailor your marketing campaigns to specific audience segments with higher conversion rates.\n",
        "Personalized Recommendations: You can leverage lookalike information to provide more relevant and personalized product recommendations to your customers.\n",
        "\n",
        "**How it works:**\n",
        "\n",
        "**Lookalike modeling typically involves the following steps:**\n",
        "\n",
        "- Define your seed audience: This is your group of existing high-value customers.\n",
        "- Data Collection and Feature Engineering: Gather data about your seed audience and create relevant features that represent their characteristics.\n",
        "- Model Training: Train a machine learning model (like cosine similarity in this case) to identify patterns and similarities within the seed audience data.\n",
        "- Lookalike Audience Generation: Apply the trained model to a larger pool of potential customers to identify those who share similar features with your seed audience.\n",
        "- Targeting and Evaluation: Use the identified lookalike audience for targeted marketing and track the performance of your campaigns."
      ],
      "metadata": {
        "id": "6FpyNEeHNKmP"
      }
    },
    {
      "cell_type": "code",
      "source": [
        "import pandas as pd\n",
        "from sklearn.preprocessing import StandardScaler\n",
        "from sklearn.metrics.pairwise import cosine_similarity\n",
        "import numpy as np\n",
        "from google.colab import files\n",
        "\n"
      ],
      "metadata": {
        "id": "U8y4h2zjKCNL"
      },
      "execution_count": null,
      "outputs": []
    },
    {
      "cell_type": "code",
      "source": [
        "class ECommerceAnalyzer:\n",
        "    def __init__(self, customers_df, products_df, transactions_df):\n",
        "        self.customers_df = customers_df.copy()\n",
        "        self.products_df = products_df.copy()\n",
        "        self.transactions_df = transactions_df.copy()\n",
        "        self.prepare_data()\n",
        "\n",
        "    def prepare_data(self):\n",
        "        # Convert dates\n",
        "        self.customers_df['SignupDate'] = pd.to_datetime(self.customers_df['SignupDate'])\n",
        "        self.transactions_df['TransactionDate'] = pd.to_datetime(self.transactions_df['TransactionDate'])\n",
        "\n",
        "        # Create customer features\n",
        "        self.customer_features = self.create_customer_features()\n",
        "        self.combined_features = self.create_combined_features()\n",
        "\n",
        "    def create_customer_features(self):\n",
        "        # Aggregate transaction data by customer\n",
        "        customer_aggs = self.transactions_df.groupby('CustomerID').agg({\n",
        "            'TransactionID': 'count',\n",
        "            'Quantity': 'sum',\n",
        "            'TotalValue': 'sum'\n",
        "        }).rename(columns={\n",
        "            'TransactionID': 'total_transactions',\n",
        "            'Quantity': 'total_items',\n",
        "            'TotalValue': 'total_spend'\n",
        "        })\n",
        "\n",
        "        # Add average transaction value\n",
        "        customer_aggs['avg_transaction_value'] = (\n",
        "            customer_aggs['total_spend'] / customer_aggs['total_transactions']\n",
        "        )\n",
        "\n",
        "        # Merge with customer data\n",
        "        customer_features = self.customers_df.merge(\n",
        "            customer_aggs,\n",
        "            how='left',\n",
        "            left_on='CustomerID',\n",
        "            right_index=True\n",
        "        )\n",
        "\n",
        "        # Fill NaN values for customers with no transactions\n",
        "        customer_features = customer_features.fillna({\n",
        "            'total_transactions': 0,\n",
        "            'total_items': 0,\n",
        "            'total_spend': 0,\n",
        "            'avg_transaction_value': 0\n",
        "        })\n",
        "\n",
        "        return customer_features\n",
        "\n",
        "    def create_combined_features(self):\n",
        "        # Merge transactions with products to get product categories\n",
        "        transactions_with_products = self.transactions_df.merge(self.products_df[['ProductID', 'Category']], on='ProductID', how='left')\n",
        "\n",
        "        # Create customer-product features\n",
        "        customer_product_features = transactions_with_products.groupby(['CustomerID', 'Category'])['Quantity'].sum().reset_index()\n",
        "\n",
        "        # Pivot the table to create a customer-category matrix\n",
        "        customer_product_matrix = customer_product_features.pivot(index='CustomerID', columns='Category', values='Quantity').fillna(0)\n",
        "\n",
        "        # Join customer features with customer-product matrix\n",
        "        combined_features = self.customer_features.merge(customer_product_matrix, left_on='CustomerID', right_index=True, how='left').fillna(0)\n",
        "\n",
        "        return combined_features\n",
        "\n",
        "    def find_lookalikes(self, customer_id, n_recommendations=3):\n",
        "    # Select features for similarity calculation\n",
        "    # Exclude CustomerID, SignupDate, and Gender\n",
        "    # Only include numerical features\n",
        "        features = self.combined_features.select_dtypes(include=np.number).columns[2:]\n",
        "\n",
        "    # Normalize features\n",
        "        scaler = StandardScaler()\n",
        "        scaled_features = scaler.fit_transform(self.combined_features[features])\n",
        "\n",
        "    # Calculate similarity\n",
        "        similarity_matrix = cosine_similarity(scaled_features)\n",
        "\n",
        "        # Get customer index\n",
        "        customer_idx = self.combined_features[self.combined_features['CustomerID'] == customer_id].index[0]\n",
        "\n",
        "        # Get similar customers\n",
        "        similar_scores = similarity_matrix[customer_idx]\n",
        "        similar_indices = np.argsort(similar_scores)[::-1][1:n_recommendations + 1]\n",
        "\n",
        "        recommendations = []\n",
        "        for idx in similar_indices:\n",
        "            customer = self.combined_features.iloc[idx]\n",
        "            recommendations.append({\n",
        "                'customer_id': customer['CustomerID'],\n",
        "                'similarity_score': similar_scores[idx]\n",
        "            })\n",
        "\n",
        "        return recommendations\n",
        "\n",
        "    def generate_lookalikes_csv(self, num_customers=20, output_file=\"Mansi_Waghmare_Lookalike.csv\"):\n",
        "        lookalikes = {}\n",
        "        for customer_id in self.customers_df['CustomerID'][:num_customers]:\n",
        "            lookalikes[customer_id] = self.find_lookalikes(customer_id)\n",
        "\n",
        "        # Create a DataFrame for lookalikes\n",
        "        lookalikes_df = pd.DataFrame([(k, v) for k, v in lookalikes.items()],\n",
        "                                     columns=['cust_id', 'lookalikes'])\n",
        "\n",
        "        # Explode the lookalikes list\n",
        "        lookalikes_df = lookalikes_df.explode('lookalikes')\n",
        "\n",
        "        # Extract customer_id and similarity_score\n",
        "        lookalikes_df[['lookalike_id', 'similarity_score']] = lookalikes_df['lookalikes'].apply(pd.Series)\n",
        "\n",
        "        # Drop the original lookalikes column\n",
        "        lookalikes_df = lookalikes_df.drop(columns=['lookalikes'])\n",
        "\n",
        "       # Group by cust_id and aggregate lookalikes\n",
        "       # Use a list to select multiple columns instead of a tuple\n",
        "        lookalikes_grouped = lookalikes_df.groupby('cust_id')[['lookalike_id', 'similarity_score']].apply(lambda x: x.to_dict('records')).reset_index(name='lookalikes')\n",
        "\n",
        "        # Save to CSV\n",
        "        lookalikes_grouped.to_csv(output_file, index=False)\n",
        "        print(f\"Lookalike data saved to {output_file}\")\n",
        "\n"
      ],
      "metadata": {
        "id": "V8okH1LWKOMM"
      },
      "execution_count": null,
      "outputs": []
    },
    {
      "cell_type": "code",
      "source": [
        "# Load data\n",
        "customers_df = pd.read_csv('/content/Customers.csv')\n",
        "products_df = pd.read_csv('/content/Products.csv')\n",
        "transactions_df = pd.read_csv('/content/Transactions.csv')\n",
        "\n",
        "# Initialize analyzer\n",
        "analyzer = ECommerceAnalyzer(customers_df, products_df, transactions_df)\n",
        "\n",
        "# Generate Lookalike.csv\n",
        "analyzer.generate_lookalikes_csv()"
      ],
      "metadata": {
        "colab": {
          "base_uri": "https://localhost:8080/"
        },
        "id": "vyELIpiqKQ6B",
        "outputId": "5c880377-7928-4d60-b7c5-7f0f5bd49ac2"
      },
      "execution_count": null,
      "outputs": [
        {
          "output_type": "stream",
          "name": "stdout",
          "text": [
            "Lookalike data saved to Mansi_Waghmare_Lookalike.csv\n"
          ]
        }
      ]
    }
  ]
}